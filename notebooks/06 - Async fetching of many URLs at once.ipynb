{
 "cells": [
  {
   "cell_type": "markdown",
   "id": "adad270f",
   "metadata": {},
   "source": [
    "# We need to fetch about 11,000 webpages\n",
    "\n",
    "It takes about 0.8 seconds per page when we do this using keep-alive sessions and going one-by-one synchronously.\n",
    "This will take many hours.\n",
    "\n",
    "So, we need to go asynchronously. We will still be single-threaded (aka using only one CPU core), just asynchronously.\n",
    "\n",
    "If we need to go even faster, we can use multicore processing.\n",
    "\n",
    "Here's some links:\n",
    "\n",
    "https://skillshats.com/blogs/optimize-python-requests-for-faster-performance/\n",
    "https://stackoverflow.com/questions/57098886/how-to-send-10-000-http-requests-concurrently-using-python\n",
    "https://pawelmhm.github.io/asyncio/python/aiohttp/2016/04/22/asyncio-aiohttp.html\n"
   ]
  },
  {
   "cell_type": "code",
   "execution_count": null,
   "id": "358f43ed",
   "metadata": {},
   "outputs": [],
   "source": []
  }
 ],
 "metadata": {
  "kernelspec": {
   "display_name": "Python 3 (ipykernel)",
   "language": "python",
   "name": "python3"
  },
  "language_info": {
   "codemirror_mode": {
    "name": "ipython",
    "version": 3
   },
   "file_extension": ".py",
   "mimetype": "text/x-python",
   "name": "python",
   "nbconvert_exporter": "python",
   "pygments_lexer": "ipython3",
   "version": "3.10.12"
  }
 },
 "nbformat": 4,
 "nbformat_minor": 5
}
